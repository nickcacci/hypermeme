{
 "cells": [
  {
   "cell_type": "markdown",
   "metadata": {
    "slideshow": {
     "slide_type": "slide"
    }
   },
   "source": [
    "### First thing first: data ingestion\n",
    "Ho scelto logstash per la semplicità d'utilizzo e la configurazione semplice e diretta.\n",
    "Printo anche su stdout per debug.\n",
    "\n",
    "```conf\n",
    "input {\n",
    "  http {\n",
    "    id => \"tap_http_in\"\n",
    "  }\n",
    "}\n",
    "\n",
    "output {\n",
    "  kafka {\n",
    "    codec => json\n",
    "    topic_id => \"reddit_posts\"\n",
    "    bootstrap_servers => \"kafkaserver:9092\"\n",
    "  }\n",
    "  stdout { codec => rubydebug }\n",
    "}\n",
    "```\n",
    "\n"
   ]
  },
  {
   "cell_type": "markdown",
   "metadata": {
    "slideshow": {
     "slide_type": "skip"
    }
   },
   "source": [
    " https://www.elastic.co/guide/en/logstash/current/config-examples.html\n",
    " "
   ]
  },
  {
   "cell_type": "markdown",
   "metadata": {
    "slideshow": {
     "slide_type": "subslide"
    }
   },
   "source": [
    "L'interfacciamento con reddit sarà svolto da uno script in python che fa uso della libreria PRAW (Python Reddit API Wrapper) il cui compito sarà quello di fetchare i post in streaming dai subreddits prescelti e inoltrarli a logstash mediante interfaccia HTTP.  \n",
    "Lo script avrà due modalità d'esecuzione:\n",
    "1. Streaming: quanto appena descritto, scaricherà i post non appena escono e li inoltrerà periodicamente.\n",
    "2. SendN: potrà inviare N posts precedentemente archiviati, funzione utile per debug e per demo, si potrà scegliere l'intervallo di tempo tra l'invio di un post e il successivo.\n",
    "3. Download: scarica N posts e li archivia\n",
    " \n",
    "Lo script sarà conteinerizzato anch'esso e si potranno passare i parametri appena descritti come variabili d'ambiente.\n",
    "```bash\n",
    "python3 praw_script.py -mode=\"send\" -n=10 -t=10\n",
    "# or\n",
    "python3 praw_script.py -mode=\"streaming\"\n",
    "# or\n",
    "python3 praw_script.py -mode=\"download\" -n=100\n",
    "\n",
    "# Container version\n",
    "docker run --network tap -e PYTHON_APP=tap10linesConsumer.py --rm -it tap:python\n",
    "\n",
    "```"
   ]
  }
 ],
 "metadata": {
  "kernelspec": {
   "display_name": "social_media",
   "language": "python",
   "name": "python3"
  },
  "language_info": {
   "name": "python",
   "version": "3.11.8"
  }
 },
 "nbformat": 4,
 "nbformat_minor": 2
}
